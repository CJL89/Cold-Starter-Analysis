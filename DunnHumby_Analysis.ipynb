# Importing dependecies:
import numpy as np
import pandas as pd
import matplotlib.pyplot as plt
import seaborn as sns
import os

sns.set()
%matplotlib inline
%config InlineBackend.figure_format = 'svg'

pd.set_option('display.max_columns', 100)
pd.set_option('display.max_rows', 100)

# Importing documents:
df = pd.read_csv('/Users/cesarjaitmanlabaton/Google Drive/Programming/Springboard/Data Science Career Track/Capstone_project_01/cj_single_view.csv', index_col=0, low_memory=False)
df.head()

# Changing columns names to lower case for uniformity:
df.columns = map(str.lower, df.columns)
df.info()

df.isnull().count()

# Analizing if some products are more purchased more often than others:
_ = sns.countplot(df['product_id'])


def counplot_figure(x, data, xlabel, ylabel, orientation):
    # plt.figure(figsize=(20, 7.5))
    sns.countplot(x=x, orient=orientation)
    plt.xlabel(xlabel, size=15)
    plt.ylabel(ylabel, size=15)
    plt.show()

counplot_figure(df.week_no, df, 'Total Count', 'Week Number', 'h')
